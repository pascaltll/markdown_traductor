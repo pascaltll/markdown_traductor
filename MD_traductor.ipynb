{
 "cells": [
  {
   "cell_type": "code",
   "execution_count": 1,
   "id": "148de134",
   "metadata": {},
   "outputs": [
    {
     "name": "stdout",
     "output_type": "stream",
     "text": [
      "MD_traductor.ipynb  README.md  full.md  miner.ipynb  output.md  output_2.md\r\n"
     ]
    }
   ],
   "source": [
    "ls"
   ]
  },
  {
   "cell_type": "code",
   "execution_count": 2,
   "id": "6d100074",
   "metadata": {},
   "outputs": [
    {
     "name": "stdout",
     "output_type": "stream",
     "text": [
      "Using device: cuda\n"
     ]
    },
    {
     "name": "stderr",
     "output_type": "stream",
     "text": [
      "/workspace/notebooks/Carlos/fine_tunig_project/mi_entorno/lib/python3.8/site-packages/huggingface_hub/file_download.py:795: FutureWarning: `resume_download` is deprecated and will be removed in version 1.0.0. Downloads always resume when possible. If you want to force a new download, use `force_download=True`.\n",
      "  warnings.warn(\n",
      "Translating markdown paragraphs:   0%|          | 0/188 [00:00<?, ?it/s]2025-04-05 04:25:41.154590: I tensorflow/core/platform/cpu_feature_guard.cc:182] This TensorFlow binary is optimized to use available CPU instructions in performance-critical operations.\n",
      "To enable the following instructions: AVX2 FMA, in other operations, rebuild TensorFlow with the appropriate compiler flags.\n",
      "Translating markdown paragraphs: 100%|██████████| 188/188 [02:16<00:00,  1.37it/s]"
     ]
    },
    {
     "name": "stdout",
     "output_type": "stream",
     "text": [
      "Translation complete! Check 'output.md' for the result.\n"
     ]
    },
    {
     "name": "stderr",
     "output_type": "stream",
     "text": [
      "\n"
     ]
    }
   ],
   "source": [
    "from transformers import M2M100Tokenizer, M2M100ForConditionalGeneration\n",
    "from transformers import AutoTokenizer, AutoModelForSeq2SeqLM\n",
    "import torch\n",
    "import re\n",
    "from tqdm import tqdm\n",
    "\n",
    "# Configuración del dispositivo\n",
    "device = torch.device(\"cuda\" if torch.cuda.is_available() else \"cpu\")\n",
    "print(f\"Using device: {device}\")\n",
    "\n",
    "# Cargar modelo y tokenizer para traducción\n",
    "model_name = \"facebook/m2m100_418M\"\n",
    "tokenizer = M2M100Tokenizer.from_pretrained(model_name, src_lang=\"ru\", tgt_lang=\"en\")\n",
    "model = M2M100ForConditionalGeneration.from_pretrained(model_name).to(device)\n",
    "\n",
    "# Cargar modelo y tokenizer para corrección tipográfica (usando una versión pequeña de T5 como ejemplo)\n",
    "#correction_model_name = \"google/flan-t5-base\"  # Or a smaller version like \"google/flan-t5-small\"\n",
    "#correction_tokenizer = AutoTokenizer.from_pretrained(correction_model_name)\n",
    "#correction_model = AutoModelForSeq2SeqLM.from_pretrained(correction_model_name).to(device)\n",
    "\n",
    "# Patrones\n",
    "image_pattern = r\"!\\[\\]\\((.*?)\\)\"\n",
    "latex_inline_pattern = r\"\\$[^$]+\\$\"\n",
    "latex_block_pattern = r\"\\$\\$[\\s\\S]*?\\$\\$\"\n",
    "code_block_pattern = r\"```[\\s\\S]*?```\"\n",
    "header_pattern = r\"^(#{1,6})\\s+(.*)$\"\n",
    "\n",
    "# Diccionarios para preservar bloques LaTeX\n",
    "latex_blocks = {}\n",
    "block_counter = 0\n",
    "\n",
    "def translate_text(text):\n",
    "    tokenizer.src_lang = \"ru\"\n",
    "    inputs = tokenizer(text, return_tensors=\"pt\", padding=True, truncation=True, max_length=1024).to(device)\n",
    "    translated = model.generate(**inputs, forced_bos_token_id=tokenizer.get_lang_id(\"en\"), max_length=1024)\n",
    "    return tokenizer.decode(translated[0], skip_special_tokens=True)\n",
    "\n",
    "def preserve_latex_blocks(text):\n",
    "    global block_counter\n",
    "    def repl(match):\n",
    "        global block_counter\n",
    "        key = f\"<LATEX_BLOCK_{block_counter}>\"\n",
    "        latex_blocks[key] = match.group(0)\n",
    "        block_counter += 1\n",
    "        return key\n",
    "    return re.sub(latex_block_pattern, repl, text)\n",
    "\n",
    "def restore_latex_blocks(text):\n",
    "    for key, value in latex_blocks.items():\n",
    "        text = text.replace(key, value)\n",
    "    return text\n",
    "\n",
    "def split_paragraph(paragraph):\n",
    "    patterns = [image_pattern, latex_block_pattern, latex_inline_pattern, code_block_pattern]\n",
    "    parts = [paragraph]\n",
    "    for pattern in patterns:\n",
    "        new_parts = []\n",
    "        for part in parts:\n",
    "            matches = list(re.finditer(pattern, part, re.DOTALL))\n",
    "            last_pos = 0\n",
    "            for match in matches:\n",
    "                start, end = match.span()\n",
    "                if last_pos < start:\n",
    "                    new_parts.append(part[last_pos:start])\n",
    "                new_parts.append(match.group(0))\n",
    "                last_pos = end\n",
    "            if last_pos < len(part):\n",
    "                new_parts.append(part[last_pos:])\n",
    "        parts = new_parts\n",
    "    return parts\n",
    "\n",
    "def is_russian(text):\n",
    "    return re.search(r\"[а-яА-Я]\", text, re.DOTALL)\n",
    "\n",
    "def correct_latex_in_text(text):\n",
    "    latex_pattern = re.compile(r\"(\\${1,2})([^\\$]+?)\\1\", re.DOTALL)\n",
    "    matches = list(latex_pattern.finditer(text))\n",
    "\n",
    "    corrected_latex = {}\n",
    "    for match in tqdm(matches, desc=\"Corrigiendo LaTeX\"):\n",
    "        delimiter, formula = match.groups()\n",
    "        prompt = f\"Correct any typos or syntactic errors in this LaTeX formula without changing its mathematical content:\\n\\n{delimiter}{formula}{delimiter}\"\n",
    "\n",
    "        inputs = correction_tokenizer(prompt, return_tensors=\"pt\", truncation=True, max_length=512).to(device)\n",
    "        outputs = correction_model.generate(**inputs, max_length=512)\n",
    "        corrected = correction_tokenizer.decode(outputs[0], skip_special_tokens=True).strip()\n",
    "\n",
    "        # Try to extract the LaTeX part from the corrected output\n",
    "        corrected_formula_match = re.search(r\"(\\${1,2})([^\\$]+?)\\1\", corrected)\n",
    "        if corrected_formula_match:\n",
    "            corrected = f\"{corrected_formula_match.group(1)}{corrected_formula_match.group(2)}{corrected_formula_match.group(1)}\"\n",
    "        else:\n",
    "            # If extraction fails, fall back to the original formula\n",
    "            corrected = f\"{delimiter}{formula.strip()}{delimiter}\"\n",
    "\n",
    "        corrected_latex[match.group(0)] = corrected\n",
    "\n",
    "    # Reemplazar en el contenido original\n",
    "    for original, fixed in corrected_latex.items():\n",
    "        text = text.replace(original, fixed)\n",
    "\n",
    "    return text\n",
    "\n",
    "def process_paragraph(paragraph):\n",
    "    header_match = re.match(header_pattern, paragraph)\n",
    "    if header_match:\n",
    "        level, text = header_match.groups()\n",
    "        if is_russian(text):\n",
    "            text = translate_text(text)\n",
    "        return f\"{level} {text}\"\n",
    "\n",
    "    paragraph = preserve_latex_blocks(paragraph)\n",
    "    parts = split_paragraph(paragraph)\n",
    "\n",
    "    translated_parts = []\n",
    "    for part in parts:\n",
    "        if is_russian(part):\n",
    "            translated_parts.append(translate_text(part))\n",
    "        elif re.match(latex_inline_pattern, part) or re.match(latex_block_pattern, part):\n",
    "            # Si es texto LaTeX, corregirlo\n",
    "            #correct_latex_in_text = correct_latex_in_text(part)\n",
    "            translated_parts.append(part)\n",
    "        else:\n",
    "            translated_parts.append(part)\n",
    "\n",
    "    final_paragraph = \"\".join(translated_parts)\n",
    "    return restore_latex_blocks(final_paragraph).strip()\n",
    "\n",
    "def main():\n",
    "    #input_file = \"full.md\"\n",
    "    input_file = \"Homework_ActorCritic.md\"\n",
    "    #output_file = \"output.md\"\n",
    "    output_file = \"Homework_ActorCritic_eng.md\"\n",
    "\n",
    "    with open(input_file, \"r\", encoding=\"utf-8\") as f:\n",
    "        content = f.read()\n",
    "\n",
    "    paragraphs = content.split(\"\\n\\n\")\n",
    "    translated_paragraphs = []\n",
    "\n",
    "    for paragraph in tqdm(paragraphs, desc=\"Translating markdown paragraphs\"):\n",
    "        translated_paragraph = process_paragraph(paragraph)\n",
    "        translated_paragraphs.append(translated_paragraph)\n",
    "\n",
    "    translated_content = \"\\n\\n\".join(translated_paragraphs)\n",
    "\n",
    "    with open(output_file, \"w\", encoding=\"utf-8\") as f:\n",
    "        f.write(translated_content)\n",
    "\n",
    "    print(\"Translation complete! Check 'output.md' for the result.\")\n",
    "\n",
    "if __name__ == \"__main__\":\n",
    "    main()"
   ]
  },
  {
   "cell_type": "code",
   "execution_count": 4,
   "id": "131b9136",
   "metadata": {},
   "outputs": [
    {
     "name": "stdout",
     "output_type": "stream",
     "text": [
      "Homework_ActorCritic.md  README.md  miner.ipynb  output_2.md\r\n",
      "MD_traductor.ipynb       full.md    output.md\r\n"
     ]
    }
   ],
   "source": [
    "ls"
   ]
  },
  {
   "cell_type": "code",
   "execution_count": null,
   "id": "1958f5ef",
   "metadata": {},
   "outputs": [],
   "source": []
  }
 ],
 "metadata": {
  "kernelspec": {
   "display_name": "Mi Entorno (Python 3.9)",
   "language": "python",
   "name": "mi_entorno"
  },
  "language_info": {
   "codemirror_mode": {
    "name": "ipython",
    "version": 3
   },
   "file_extension": ".py",
   "mimetype": "text/x-python",
   "name": "python",
   "nbconvert_exporter": "python",
   "pygments_lexer": "ipython3",
   "version": "3.8.13"
  }
 },
 "nbformat": 4,
 "nbformat_minor": 5
}
